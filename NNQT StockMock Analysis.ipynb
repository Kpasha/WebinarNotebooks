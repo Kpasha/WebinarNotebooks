{
 "cells": [
  {
   "cell_type": "code",
   "execution_count": null,
   "metadata": {},
   "outputs": [],
   "source": [
    "import pandas as pd\n",
    "import numpy as np\n",
    "import matplotlib.pyplot as plt"
   ]
  },
  {
   "cell_type": "code",
   "execution_count": null,
   "metadata": {},
   "outputs": [],
   "source": [
    "# Import StockMock csv\n",
    "stockmock_data = pd.read_csv('PATH TO STOCKMOCK CSV FILE').dropna()"
   ]
  },
  {
   "cell_type": "code",
   "execution_count": null,
   "metadata": {},
   "outputs": [],
   "source": [
    "# Get rid of rows with nonsense values in them\n",
    "stockmock_data = stockmock_data[stockmock_data['Profit'] != 'Profit']"
   ]
  },
  {
   "cell_type": "code",
   "execution_count": null,
   "metadata": {},
   "outputs": [],
   "source": [
    "# Convert profit values into numeric values i.e. floating point numbers\n",
    "stockmock_data['Profit'] = stockmock_data['Profit'].apply(float)"
   ]
  },
  {
   "cell_type": "code",
   "execution_count": null,
   "metadata": {
    "scrolled": true
   },
   "outputs": [],
   "source": [
    "# Plot cumulative PnL curve\n",
    "stockmock_data['Profit'].cumsum().plot()"
   ]
  },
  {
   "cell_type": "code",
   "execution_count": null,
   "metadata": {},
   "outputs": [],
   "source": [
    "# Print final PnL\n",
    "stockmock_data['Profit'].cumsum().iloc[-1]"
   ]
  },
  {
   "cell_type": "code",
   "execution_count": null,
   "metadata": {},
   "outputs": [],
   "source": [
    "stockmock_data.columns"
   ]
  },
  {
   "cell_type": "code",
   "execution_count": null,
   "metadata": {},
   "outputs": [],
   "source": [
    "stockmock_data.columns[4]"
   ]
  },
  {
   "cell_type": "code",
   "execution_count": null,
   "metadata": {},
   "outputs": [],
   "source": [
    "# Extract CE and PE Entry, Exit prices from the dataframe into new columns\n",
    "stockmock_data['CE Entry'] = stockmock_data['Sell 20 ATM-100 CE'].apply(lambda x: x.split('(')[1].split('-')[0])\n",
    "stockmock_data['CE Exit'] = stockmock_data['Sell 20 ATM-100 CE'].apply(lambda x: x.split('(')[1].split('-')[1].split('=')[0])\n",
    "stockmock_data['PE Entry'] = stockmock_data['Sell 20 ATM+100 PE'].apply(lambda x: x.split('(')[1].split('-')[0])\n",
    "stockmock_data['PE Exit'] = stockmock_data['Sell 20 ATM+100 PE'].apply(lambda x: x.split('(')[1].split('-')[1].split('=')[0])"
   ]
  },
  {
   "cell_type": "code",
   "execution_count": null,
   "metadata": {},
   "outputs": [],
   "source": [
    "# Convert CE/PE Entry, Exit values into numerical values i.e. floating point numbers\n",
    "stockmock_data[['CE Entry', 'CE Exit', 'PE Entry', 'PE Exit']] = stockmock_data[['CE Entry', 'CE Exit', 'PE Entry', 'PE Exit']].applymap(float)"
   ]
  },
  {
   "cell_type": "code",
   "execution_count": null,
   "metadata": {},
   "outputs": [],
   "source": [
    "# Compute Slippage\n",
    "stockmock_data['Slippage'] = stockmock_data[['CE Entry', 'CE Exit', 'PE Entry', 'PE Exit']].sum(axis=1)*0.01*20"
   ]
  },
  {
   "cell_type": "code",
   "execution_count": null,
   "metadata": {},
   "outputs": [],
   "source": [
    "# Display Net cumulative PnL i.e. Profit - Slippage\n",
    "(stockmock_data['Profit'] - stockmock_data['Slippage']).cumsum().plot()"
   ]
  },
  {
   "cell_type": "code",
   "execution_count": null,
   "metadata": {},
   "outputs": [],
   "source": [
    "# Diplay final Net Profit\n",
    "np = (stockmock_data['Profit'] - stockmock_data['Slippage']).cumsum().iloc[-1]\n",
    "print(np)"
   ]
  },
  {
   "cell_type": "code",
   "execution_count": null,
   "metadata": {},
   "outputs": [],
   "source": [
    "stockmock_data['Net Profit'] = (stockmock_data['Profit'] - stockmock_data['Slippage'])"
   ]
  },
  {
   "cell_type": "code",
   "execution_count": null,
   "metadata": {},
   "outputs": [],
   "source": [
    "(stockmock_data['Net Profit'].cumsum() - stockmock_data['Net Profit'].cumsum().cummax()).plot()"
   ]
  },
  {
   "cell_type": "code",
   "execution_count": null,
   "metadata": {},
   "outputs": [],
   "source": [
    "# Maximum drawdown value\n",
    "mdd = (stockmock_data['Net Profit'].cumsum() - stockmock_data['Net Profit'].cumsum().cummax()).min()\n",
    "print(mdd)"
   ]
  }
 ],
 "metadata": {
  "kernelspec": {
   "display_name": "Python 3",
   "language": "python",
   "name": "python3"
  },
  "language_info": {
   "codemirror_mode": {
    "name": "ipython",
    "version": 3
   },
   "file_extension": ".py",
   "mimetype": "text/x-python",
   "name": "python",
   "nbconvert_exporter": "python",
   "pygments_lexer": "ipython3",
   "version": "3.7.3"
  }
 },
 "nbformat": 4,
 "nbformat_minor": 2
}
